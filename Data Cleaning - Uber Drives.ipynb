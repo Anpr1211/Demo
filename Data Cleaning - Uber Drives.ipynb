{
 "cells": [
  {
   "cell_type": "code",
   "execution_count": null,
   "metadata": {},
   "outputs": [],
   "source": [
    "# importing libraries\n",
    "import pandas as pd"
   ]
  },
  {
   "cell_type": "markdown",
   "metadata": {},
   "source": [
    "# Reading the Dataset"
   ]
  },
  {
   "cell_type": "markdown",
   "metadata": {},
   "source": [
    "The dataset used is the [\"My Uber Drives\"](https://www.kaggle.com/zusmani/uberdrives) dataset available on Kaggle. \n",
    "\n",
    "The \"My Uber Drives\" dataset stores the information of the Uber trips taken by a specific individual during the period of January 2016 to December 2016. \n",
    "\n",
    "It consists of the following variables:\n",
    "\n",
    "- START_DATE* : Date and Time when the trip started\n",
    "- END_DATE* : Date and Time when the trip ended\n",
    "- CATEGORY* : Whether the trip was a business trip or personal\n",
    "- START* : Location where the trip started\n",
    "- STOP* : Location where the trip ended\n",
    "- MILES* : Miles covered during the trip\n",
    "- PURPOSE* : Purpose of the trip (Meals, Errands, Meetings, Customer Support etc.)\n",
    "\n",
    "The dataset is loaded and displayed."
   ]
  },
  {
   "cell_type": "code",
   "execution_count": null,
   "metadata": {},
   "outputs": [],
   "source": [
    "# reading the dataset\n",
    "data = pd.read_csv('datasets_1026_1855_My Uber Drives - 2016.csv')\n",
    "data.tail()"
   ]
  },
  {
   "cell_type": "markdown",
   "metadata": {},
   "source": [
    "# Cleaning the Dataset"
   ]
  },
  {
   "cell_type": "markdown",
   "metadata": {},
   "source": [
    "The last row of the dataset stores the total no. of miles and no other useful information. Hence it is deleted."
   ]
  },
  {
   "cell_type": "code",
   "execution_count": null,
   "metadata": {},
   "outputs": [],
   "source": [
    "# dropping the last row\n",
    "data = data.drop([1155])"
   ]
  },
  {
   "cell_type": "markdown",
   "metadata": {},
   "source": [
    "Next, the concise summary of the dataframe is displayed to get an idea of the datatype of the columns and presence of missing values."
   ]
  },
  {
   "cell_type": "code",
   "execution_count": null,
   "metadata": {},
   "outputs": [],
   "source": [
    "# printing the info of the dataset\n",
    "data.info()"
   ]
  },
  {
   "cell_type": "markdown",
   "metadata": {},
   "source": [
    "The feature 'PURPOSE\\*' has missing values. Other than that, there is no missing data. \n",
    "\n",
    "The columns 'START_DATE*' and 'END_DATE*' should be of DateTime type. They are also divided into two different columns based on date and time respectively."
   ]
  },
  {
   "cell_type": "code",
   "execution_count": null,
   "metadata": {},
   "outputs": [],
   "source": [
    "# converting to DateTime type\n",
    "data['START_DATE*'] = pd.to_datetime(data['START_DATE*'])\n",
    "\n",
    "# making the respective date and time columns\n",
    "data['Start Date'] = data['START_DATE*'].dt.date\n",
    "data['Start Time'] = data['START_DATE*'].dt.time"
   ]
  },
  {
   "cell_type": "code",
   "execution_count": null,
   "metadata": {},
   "outputs": [],
   "source": [
    "# converting to DateTime type\n",
    "data['END_DATE*'] = pd.to_datetime(data['END_DATE*'])\n",
    "\n",
    "# making the respective date and time columns\n",
    "data['End Date'] = data['END_DATE*'].dt.date\n",
    "data['End Time'] = data['END_DATE*'].dt.time"
   ]
  },
  {
   "cell_type": "code",
   "execution_count": null,
   "metadata": {},
   "outputs": [],
   "source": [
    "data.info()"
   ]
  },
  {
   "cell_type": "markdown",
   "metadata": {},
   "source": [
    "A column 'Weekday' is added which stores the day of the week that the trip took place. The values of this feature vary from 0 to 6, where 0 represents Monday and 6 represents Sunday."
   ]
  },
  {
   "cell_type": "code",
   "execution_count": null,
   "metadata": {},
   "outputs": [],
   "source": [
    "# finding the day of the week\n",
    "data['Weekday'] = [pd.to_datetime(date).weekday() for date in data['Start Date']]"
   ]
  },
  {
   "cell_type": "code",
   "execution_count": null,
   "metadata": {},
   "outputs": [],
   "source": [
    "data['Weekday'].unique()"
   ]
  },
  {
   "cell_type": "markdown",
   "metadata": {},
   "source": [
    "Another feature 'Duration' is added which stores the duration of the trip in minutes. It is basically the difference between the start and end time. "
   ]
  },
  {
   "cell_type": "code",
   "execution_count": null,
   "metadata": {},
   "outputs": [],
   "source": [
    "# finding the duration of the trip\n",
    "duration = data['END_DATE*'] - data['START_DATE*']\n",
    "\n",
    "data['Duration'] =  [t.total_seconds()/60 for t in duration]"
   ]
  },
  {
   "cell_type": "markdown",
   "metadata": {},
   "source": [
    "It was also observed from the start and end locations that the rider whom this data pertains to was out of country (USA) at 3 specific instances. The rides corresponding to those trips are deleted to ensure cohesiveness of the data."
   ]
  },
  {
   "cell_type": "code",
   "execution_count": null,
   "metadata": {},
   "outputs": [],
   "source": [
    "# making 3 dataframes corresponding to 3 time intervals\n",
    "d1 = data[data['Start Date'].between(pd.to_datetime('2016-02-16'), pd.to_datetime('2016-02-21'))]\n",
    "d2 = data[data['Start Date'].between(pd.to_datetime('2016-08-15'), pd.to_datetime('2016-10-14'))]\n",
    "d3 = data[data['Start Date'].between(pd.to_datetime('2016-12-17'), pd.to_datetime('2016-12-31'))]"
   ]
  },
  {
   "cell_type": "code",
   "execution_count": null,
   "metadata": {},
   "outputs": [],
   "source": [
    "# dropping the concatenated dataframe using the index\n",
    "data = data.drop(pd.concat([d1, d2, d3]).index)"
   ]
  },
  {
   "cell_type": "markdown",
   "metadata": {},
   "source": [
    "The dataset now stores information on all the trips that took place in the United States of America."
   ]
  },
  {
   "cell_type": "markdown",
   "metadata": {},
   "source": [
    "The columns 'START_DATE*' and 'END_DATE*' are also removed as their information is present in the columns 'Start Date', 'Start Time', 'End Date' and 'End Time'."
   ]
  },
  {
   "cell_type": "code",
   "execution_count": null,
   "metadata": {},
   "outputs": [],
   "source": [
    "# dropping the irrelevant columns\n",
    "data = data.drop(['START_DATE*', 'END_DATE*'], axis=1)"
   ]
  },
  {
   "cell_type": "markdown",
   "metadata": {},
   "source": [
    "The feature 'PURPOSE*' is imputed with the modal value since it is a categorical variable."
   ]
  },
  {
   "cell_type": "code",
   "execution_count": null,
   "metadata": {},
   "outputs": [],
   "source": [
    "# data imputation with mode\n",
    "mode = data['PURPOSE*'].mode()[0]\n",
    "data['PURPOSE*'] = data['PURPOSE*'].fillna(mode)"
   ]
  },
  {
   "cell_type": "markdown",
   "metadata": {},
   "source": [
    "This is how the dataset finally looks like."
   ]
  },
  {
   "cell_type": "code",
   "execution_count": null,
   "metadata": {},
   "outputs": [],
   "source": [
    "data"
   ]
  },
  {
   "cell_type": "markdown",
   "metadata": {},
   "source": [
    "# Saving the Dataset"
   ]
  },
  {
   "cell_type": "markdown",
   "metadata": {},
   "source": [
    "The dataset is saved using the to_csv() function of a pandas dataframe."
   ]
  },
  {
   "cell_type": "code",
   "execution_count": null,
   "metadata": {},
   "outputs": [],
   "source": [
    "# saving the dataset\n",
    "data.to_csv('Uber_Drives_Clean.csv', index=False)"
   ]
  }
 ],
 "metadata": {
  "kernelspec": {
   "display_name": "Python 3",
   "language": "python",
   "name": "python3"
  },
  "language_info": {
   "codemirror_mode": {
    "name": "ipython",
    "version": 3
   },
   "file_extension": ".py",
   "mimetype": "text/x-python",
   "name": "python",
   "nbconvert_exporter": "python",
   "pygments_lexer": "ipython3",
   "version": "3.7.6"
  }
 },
 "nbformat": 4,
 "nbformat_minor": 4
}
