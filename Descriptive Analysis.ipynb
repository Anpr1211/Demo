{
 "cells": [
  {
   "cell_type": "code",
   "execution_count": null,
   "metadata": {},
   "outputs": [],
   "source": [
    "# importing libraries\n",
    "\n",
    "import pandas as pd\n",
    "import seaborn as sns\n",
    "import matplotlib.pyplot as plt"
   ]
  },
  {
   "cell_type": "markdown",
   "metadata": {},
   "source": [
    "# Reading the  Cleaned Dataset"
   ]
  },
  {
   "cell_type": "code",
   "execution_count": null,
   "metadata": {},
   "outputs": [],
   "source": [
    "# loading the dataset\n",
    "df = pd.read_csv(\"Uber_Drives_Clean.csv\")"
   ]
  },
  {
   "cell_type": "code",
   "execution_count": null,
   "metadata": {},
   "outputs": [],
   "source": [
    "# displaying the dataset\n",
    "df.head()"
   ]
  },
  {
   "cell_type": "markdown",
   "metadata": {},
   "source": [
    "The cleaned version of the Uber Drives Dataset stores the following features:\n",
    "\n",
    "- CATEGORY* : Whether the trip was a business trip or personal\n",
    "- START* : Location where the trip started\n",
    "- STOP* : Location where the trip ended\n",
    "- MILES* : Miles covered during the trip\n",
    "- PURPOSE* : Purpose of the trip (Meals, Errands, Meetings, Customer Support etc.)\n",
    "- Start Date : Date when the trip started\n",
    "- Start Time : Time when the trip started\n",
    "- End Date : Date when the trip ended\n",
    "- End Time : Time when the trip ended\n",
    "- Weekday : Day of the week the trip took place on, 0 represents Monday\n",
    "- Duration: Time taken during the trip, in minutes"
   ]
  },
  {
   "cell_type": "markdown",
   "metadata": {},
   "source": [
    "The dataset can now be analysed as it has been cleaned previously and does not have any issues."
   ]
  },
  {
   "cell_type": "markdown",
   "metadata": {},
   "source": [
    "# Data Analysis"
   ]
  },
  {
   "cell_type": "markdown",
   "metadata": {},
   "source": [
    "The average distance covered in a trip is ~10.5 miles while the average time duration is 21 minutes."
   ]
  },
  {
   "cell_type": "code",
   "execution_count": null,
   "metadata": {},
   "outputs": [],
   "source": [
    "# statistical summary of the numerical variables\n",
    "df.describe()"
   ]
  },
  {
   "cell_type": "markdown",
   "metadata": {},
   "source": [
    "The analysis is started off by having a look at the distribution of the 'CATEGORY\\*' and 'PURPOSE\\*' of the trips successively."
   ]
  },
  {
   "cell_type": "code",
   "execution_count": null,
   "metadata": {},
   "outputs": [],
   "source": [
    "# bar plot of the 'CATEGORY*' column\n",
    "print(df['CATEGORY*'].value_counts())\n",
    "sns.countplot(x='CATEGORY*', data=df)"
   ]
  },
  {
   "cell_type": "markdown",
   "metadata": {},
   "source": [
    "It is noted that only 8% of the trips have been marked as personal trips. This clearly means that the rider uses Uber mainly for his business trips.  "
   ]
  },
  {
   "cell_type": "code",
   "execution_count": null,
   "metadata": {},
   "outputs": [],
   "source": [
    "# bar plot of the 'PURPOSE*' column\n",
    "print(df['PURPOSE*'].value_counts())\n",
    "sns.countplot(x='PURPOSE*', data=df, order=df['PURPOSE*'].value_counts().index)\n",
    "plt.xticks(rotation=90);"
   ]
  },
  {
   "cell_type": "markdown",
   "metadata": {},
   "source": [
    "Maximum of the trips are made for the purpose of 'Meeting', which again coincides with the fact that the rider mainly uses the cab service for business trips.  "
   ]
  },
  {
   "cell_type": "code",
   "execution_count": null,
   "metadata": {},
   "outputs": [],
   "source": [
    "# count of the number of trips made on the different days of the week\n",
    "print(df['Weekday'].value_counts())\n",
    "sns.countplot(x='Weekday', data=df);"
   ]
  },
  {
   "cell_type": "markdown",
   "metadata": {},
   "source": [
    "There is a significant increase in the number of trips made on Friday, compared to the other days of the week. This increase may be attributed to the fact that the next two days are weekend and hence, there is no work. So it is possible that the rider prefers to conclude his work on Friday, which leads to an increase in the no. of trips taking place on Friday. This observation can be further analysed with respect to the miles travelled on Fridays."
   ]
  },
  {
   "cell_type": "markdown",
   "metadata": {},
   "source": [
    "Now, the distribution of the 'MILES*' variable is analysed."
   ]
  },
  {
   "cell_type": "code",
   "execution_count": null,
   "metadata": {},
   "outputs": [],
   "source": [
    "# histogram and kdeplot of the 'MILES*' variable\n",
    "sns.distplot(df['MILES*'])\n",
    "#plt.xlim(0, 50)"
   ]
  },
  {
   "cell_type": "markdown",
   "metadata": {},
   "source": [
    "On plotting the histogram of the variable, it is observed that the distribution is positively skewed, with a very elongated right tail. \n",
    "\n",
    "Limiting the x-axis to (0, 50), the shape of the distribution becomes much more clearer. It is positively skewed and majority of the values lie belowe 20. \n",
    "\n",
    "The elongated right tail might be a result of the presence of extreme values, hence, a boxplot of this variable is plotted to substantiate our claim."
   ]
  },
  {
   "cell_type": "code",
   "execution_count": null,
   "metadata": {},
   "outputs": [],
   "source": [
    "# boxplot to look for outliers\n",
    "sns.boxplot(df['MILES*'])\n",
    "plt.xlim(0, 50)"
   ]
  },
  {
   "cell_type": "markdown",
   "metadata": {},
   "source": [
    "The above boxplot shows the presence of many outliers in the 'MILES*' variable."
   ]
  },
  {
   "cell_type": "markdown",
   "metadata": {},
   "source": [
    "Similarly, the distribution of 'Duration' is analysed."
   ]
  },
  {
   "cell_type": "code",
   "execution_count": null,
   "metadata": {},
   "outputs": [],
   "source": [
    "# histogram and kdeplot of the 'Duration' variable\n",
    "plt.subplot(1, 2, 1)\n",
    "sns.distplot(df['Duration'])\n",
    "plt.xlim(0, 50)\n",
    "\n",
    "# boxplot to look for outliers\n",
    "plt.subplot(1, 2, 2)\n",
    "sns.boxplot(df['Duration'])\n",
    "plt.xlim(0, 50)"
   ]
  },
  {
   "cell_type": "markdown",
   "metadata": {},
   "source": [
    "The 'Duration' variable is also positively skewed with the presence of outliers. \n",
    "\n",
    "The similar distributions of the two variables 'MILES*' and 'Duration' can lead one to think that these variables share a relationship with each other. This will be deeply analysed later."
   ]
  },
  {
   "cell_type": "markdown",
   "metadata": {},
   "source": [
    "It can be expected that the person takes the maximum number of cab rides during the office hours. This is what we examine next."
   ]
  },
  {
   "cell_type": "code",
   "execution_count": null,
   "metadata": {},
   "outputs": [],
   "source": [
    "# count of the number of trips made on the different hours of the day\n",
    "start_hour = pd.to_datetime(df['Start Time']).dt.hour.value_counts()\n",
    "\n",
    "sns.barplot(x=start_hour.index, y=list(start_hour))"
   ]
  },
  {
   "cell_type": "markdown",
   "metadata": {},
   "source": [
    "As expected, the rider has the most number of trips between 9 am in the morining to 9 pm at night. Other than that, there are very few trips in the night hours."
   ]
  },
  {
   "cell_type": "markdown",
   "metadata": {},
   "source": [
    "The 'End Time' of the trips also follows a similar distribution. "
   ]
  },
  {
   "cell_type": "code",
   "execution_count": null,
   "metadata": {},
   "outputs": [],
   "source": [
    "# count of the number of trips made on the different days of the week\n",
    "end_hour = pd.to_datetime(df['End Time']).dt.hour.value_counts()\n",
    "\n",
    "sns.barplot(x=end_hour.index, y=list(end_hour))"
   ]
  },
  {
   "cell_type": "markdown",
   "metadata": {},
   "source": [
    "One can also analyse the frequency of trips during the different months of the year. However, the person was out of country for different time intervals in the months of February, August, September, October and December. Hence the no. of trips for these months might be misleading."
   ]
  },
  {
   "cell_type": "code",
   "execution_count": null,
   "metadata": {},
   "outputs": [],
   "source": [
    "# count of the number of trips made on the different months of the year\n",
    "sns.countplot(pd.to_datetime(df['Start Date']).dt.month)"
   ]
  },
  {
   "cell_type": "markdown",
   "metadata": {},
   "source": [
    "If the months of February, August, October and December are left out, the no. of trips made in the months of March, June, July and November have been significantly high. Yet, the months of January, April and May mark a very low no. of trips, even lesser than the months in which the rider stayed out of country."
   ]
  },
  {
   "cell_type": "markdown",
   "metadata": {},
   "source": [
    "Similarly, the no. of trips taken on different days of the month can be studied."
   ]
  },
  {
   "cell_type": "code",
   "execution_count": null,
   "metadata": {},
   "outputs": [],
   "source": [
    "# count of the number of trips made on the different days of the month\n",
    "sns.countplot(pd.to_datetime(df['Start Date']).dt.day)"
   ]
  },
  {
   "cell_type": "markdown",
   "metadata": {},
   "source": [
    "There seems to be some sort of cyclical pattern in this plot, where the no. of trips gradually decreases and then increases. "
   ]
  },
  {
   "cell_type": "markdown",
   "metadata": {},
   "source": [
    "Next, the start and end locations of the trips are inspected to get an idea of the areas that the rider frequents."
   ]
  },
  {
   "cell_type": "code",
   "execution_count": null,
   "metadata": {},
   "outputs": [],
   "source": [
    "# most frequent start locations\n",
    "df['START*'].value_counts().nlargest(10)"
   ]
  },
  {
   "cell_type": "code",
   "execution_count": null,
   "metadata": {},
   "outputs": [],
   "source": [
    "# most frequent end locations\n",
    "df['STOP*'].value_counts().nlargest(10)"
   ]
  },
  {
   "cell_type": "markdown",
   "metadata": {},
   "source": [
    "The one location that the person travels to and from regularly is 'Cary' as ~25% of the total trips either start or end here. Other than that, 'Morrisville' and 'Whitebridge' are also frequent locations of the trips."
   ]
  },
  {
   "cell_type": "markdown",
   "metadata": {},
   "source": [
    "A filtered dataframe with the most frequent locations is made for further analysis."
   ]
  },
  {
   "cell_type": "code",
   "execution_count": null,
   "metadata": {},
   "outputs": [],
   "source": [
    "# dataframe of most frequent locations\n",
    "most_frequent_stops = df['STOP*'].value_counts().nlargest(10).index\n",
    "\n",
    "df_filtered = df[df['STOP*'].isin(most_frequent_stops)]"
   ]
  },
  {
   "cell_type": "code",
   "execution_count": null,
   "metadata": {},
   "outputs": [],
   "source": [
    "# stacked bar chart \n",
    "pd.crosstab(df_filtered['STOP*'], df_filtered['PURPOSE*']).plot.bar(stacked=True)"
   ]
  },
  {
   "cell_type": "markdown",
   "metadata": {},
   "source": [
    "Even in thse locations, the majority of the trips are made for the purpose of 'Meeting' only, one can also observe that there have been considerable customer visits in 'Cary'. "
   ]
  },
  {
   "cell_type": "markdown",
   "metadata": {},
   "source": [
    "It is also noted that for some trips, the start and end locations correspond to the same area. So, the dataframe is divided into two - one with trips in the same area and the other with trips in different areas. These two dataframes can be considered to refer to short distance trips and long distance trips respectively."
   ]
  },
  {
   "cell_type": "code",
   "execution_count": null,
   "metadata": {},
   "outputs": [],
   "source": [
    "# dataframe of trips in the same area\n",
    "df_same_area = df[df['START*']==df['STOP*']]\n",
    "\n",
    "df_same_area.describe()"
   ]
  },
  {
   "cell_type": "code",
   "execution_count": null,
   "metadata": {},
   "outputs": [],
   "source": [
    "# dataframe of trips in different areas\n",
    "df_diff_area = df[df['START*']!=df['STOP*']]\n",
    "\n",
    "df_diff_area.describe()"
   ]
  },
  {
   "cell_type": "markdown",
   "metadata": {},
   "source": [
    "Only ~14% of the trips start and end in the same area.\n",
    "\n",
    "Short distance trips have an average duration of 15 minutes and cover an average distance of ~5 miles, whereas long distance trips generally take 22 minutes and cover ~11 miles."
   ]
  },
  {
   "cell_type": "markdown",
   "metadata": {},
   "source": [
    "It can happen that the short distance trips take place only during specific hours of the day. And that is what has been analysed next."
   ]
  },
  {
   "cell_type": "code",
   "execution_count": null,
   "metadata": {},
   "outputs": [],
   "source": [
    "# for trips in same area\n",
    "sns.scatterplot(x=pd.to_datetime(df_same_area['Start Time']).dt.hour, y=df_same_area['Duration'])"
   ]
  },
  {
   "cell_type": "code",
   "execution_count": null,
   "metadata": {},
   "outputs": [],
   "source": [
    "# for trips in different areas\n",
    "sns.scatterplot(x=pd.to_datetime(df_diff_area['Start Time']).dt.hour, y=df_diff_area['Duration'])"
   ]
  },
  {
   "cell_type": "markdown",
   "metadata": {},
   "source": [
    "The short distance trips in the same area seem to take place during the day hours, whereas the trips in different areas extend into the night hours as well, evident from the above two plots."
   ]
  },
  {
   "cell_type": "markdown",
   "metadata": {},
   "source": [
    "It was observed previously that the count of trips taking place on Fridays was significantly high compared to other days of the week. A dataframe which stores the information of only those trips which take place on Friday is made."
   ]
  },
  {
   "cell_type": "code",
   "execution_count": null,
   "metadata": {},
   "outputs": [],
   "source": [
    "# dataframe for trips that take place on Fridays\n",
    "df_fri = df[df['Weekday'] == 4]"
   ]
  },
  {
   "cell_type": "code",
   "execution_count": null,
   "metadata": {},
   "outputs": [],
   "source": [
    "# statistical summary\n",
    "df_fri.describe()"
   ]
  },
  {
   "cell_type": "markdown",
   "metadata": {},
   "source": [
    "The average distance and duration of the trips is higher than the corresponding averages of the entire dataframe or the dataframe of long distance trips."
   ]
  },
  {
   "cell_type": "code",
   "execution_count": null,
   "metadata": {},
   "outputs": [],
   "source": [
    "# finding the no. of trips in same and different areas on Fridays\n",
    "print(len(df_fri[df_fri['START*'] == df_fri['STOP*']]))\n",
    "print(len(df_fri[df_fri['START*'] != df_fri['STOP*']]))"
   ]
  },
  {
   "cell_type": "markdown",
   "metadata": {},
   "source": [
    "It is also noted that trips starting and ending in different areas are considerably higher on Fridays. Hence, it can be concluded that the person prefers making more trips and winding up his work before the weekends."
   ]
  },
  {
   "cell_type": "markdown",
   "metadata": {},
   "source": [
    "Since the time taken and the distance of the trips both are available, one can also study the speed of the vehicle during the different trips. "
   ]
  },
  {
   "cell_type": "code",
   "execution_count": null,
   "metadata": {},
   "outputs": [],
   "source": [
    "# creating the 'Speed' column\n",
    "df['Speed'] = df['MILES*']/df['Duration']\n",
    "\n",
    "# statistical summary\n",
    "print(df['Speed'].describe())\n",
    "\n",
    "# histogram\n",
    "plt.hist(df['Speed']);"
   ]
  },
  {
   "cell_type": "markdown",
   "metadata": {},
   "source": [
    "The average speed of the trips is 0.41 miles/minute, and it follows a positively skewed distribution."
   ]
  },
  {
   "cell_type": "markdown",
   "metadata": {},
   "source": [
    "It is known that the office hours result in more vehicles on the roads and it can be expected that the speed of the vehicle also remains low at that time. "
   ]
  },
  {
   "cell_type": "code",
   "execution_count": null,
   "metadata": {},
   "outputs": [],
   "source": [
    "# speed during the different hours of the day\n",
    "sns.barplot(x=pd.to_datetime(df['Start Time']).dt.hour, y=df['Speed'])"
   ]
  },
  {
   "cell_type": "markdown",
   "metadata": {},
   "source": [
    "The plot substantiates our claim. It is observed that 8 am to 7 pm mark lower values of car speed, which then increases through the night hours to dawn. "
   ]
  },
  {
   "cell_type": "markdown",
   "metadata": {},
   "source": [
    "The speed with which a car travels in a specific area can also suggest about the congestion present in the area, as more congested areas witness more traffic on busy roads and hence lower speeds."
   ]
  },
  {
   "cell_type": "code",
   "execution_count": null,
   "metadata": {},
   "outputs": [],
   "source": [
    "# speed in the different locations of the most frequent starting points\n",
    "most_frequent_starts = df['START*'].value_counts().nlargest(10).index\n",
    "\n",
    "df_filtered = df[df['START*'].isin(most_frequent_starts)]\n",
    "\n",
    "sns.barplot(x='START*', y='Speed', data=df_filtered)\n",
    "plt.xticks(rotation=90);"
   ]
  },
  {
   "cell_type": "markdown",
   "metadata": {},
   "source": [
    "'Westpark Place' has the lowest car speed during the trips, whereas 'Raleigh' and 'Kenner' observe the hightest. The speeds in the other areas remain similar."
   ]
  },
  {
   "cell_type": "markdown",
   "metadata": {},
   "source": [
    "Finally, the relationship between the variables 'MILES*' and 'Duration' is inspected. "
   ]
  },
  {
   "cell_type": "code",
   "execution_count": null,
   "metadata": {},
   "outputs": [],
   "source": [
    "sns.scatterplot(data=df, x='MILES*', y='Duration')"
   ]
  },
  {
   "cell_type": "markdown",
   "metadata": {},
   "source": [
    "A strong positive relationship exists between the two given variables, which is what one expects by general norms, that the more distance one travels, the more time it takes."
   ]
  },
  {
   "cell_type": "markdown",
   "metadata": {},
   "source": [
    "There is no significant difference observed in the plot after marking the datapoints with different colors corresponding to the day of the week that the trip takes place on. So one can conclude that the day on which a trip takes place does not have any effect on its duration."
   ]
  },
  {
   "cell_type": "code",
   "execution_count": null,
   "metadata": {},
   "outputs": [],
   "source": [
    "sns.scatterplot(data=df, x='MILES*', y='Duration', hue='Weekday', palette=\"RdBu\")"
   ]
  },
  {
   "cell_type": "code",
   "execution_count": null,
   "metadata": {},
   "outputs": [],
   "source": [
    "sns.scatterplot(data=df, x='MILES*', y='Duration', hue='Weekday', palette=\"RdBu\")\n",
    "plt.xlim(0, 50)\n",
    "plt.ylim(0, 100)"
   ]
  }
 ],
 "metadata": {
  "kernelspec": {
   "display_name": "Python 3",
   "language": "python",
   "name": "python3"
  },
  "language_info": {
   "codemirror_mode": {
    "name": "ipython",
    "version": 3
   },
   "file_extension": ".py",
   "mimetype": "text/x-python",
   "name": "python",
   "nbconvert_exporter": "python",
   "pygments_lexer": "ipython3",
   "version": "3.7.6"
  }
 },
 "nbformat": 4,
 "nbformat_minor": 4
}
