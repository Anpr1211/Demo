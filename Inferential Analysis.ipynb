{
 "cells": [
  {
   "cell_type": "code",
   "execution_count": null,
   "metadata": {},
   "outputs": [],
   "source": [
    "# importing libraries\n",
    "import pandas as pd\n",
    "from scipy import stats"
   ]
  },
  {
   "cell_type": "markdown",
   "metadata": {},
   "source": [
    "# Reading the Dataset"
   ]
  },
  {
   "cell_type": "code",
   "execution_count": null,
   "metadata": {},
   "outputs": [],
   "source": [
    "# loading the dataset\n",
    "df = pd.read_csv(\"Uber_Drives_Clean.csv\")\n",
    "\n",
    "df.head()"
   ]
  },
  {
   "cell_type": "markdown",
   "metadata": {},
   "source": [
    "# Inferential Statistics"
   ]
  },
  {
   "cell_type": "markdown",
   "metadata": {},
   "source": [
    "One starts with testing whether there is any significant difference in the duration of the trips when the trip had the same start and end location compared to a trip with different start and stop locations. \n",
    "\n",
    "For this purpose, an independent two sample t test is used."
   ]
  },
  {
   "cell_type": "code",
   "execution_count": null,
   "metadata": {},
   "outputs": [],
   "source": [
    "# making the series\n",
    "short_trips = df[df['START*'] == df['STOP*']]['Duration']\n",
    "long_trips = df[df['START*'] != df['STOP*']]['Duration']"
   ]
  },
  {
   "cell_type": "code",
   "execution_count": null,
   "metadata": {},
   "outputs": [],
   "source": [
    "# performing the test\n",
    "stats.ttest_ind(short_trips, long_trips)"
   ]
  },
  {
   "cell_type": "markdown",
   "metadata": {},
   "source": [
    "The low p-value leads to the rejection of the null hypothesis, and hence one can conclude that the duration of a trip is affected by the start and end locations of the trip, whether they are same or different. "
   ]
  },
  {
   "cell_type": "markdown",
   "metadata": {},
   "source": [
    "The hour of the day that the trip starts in can depend on the fact that whether it is a trip in the same area or to a different area. The person can be motivated to opt for long distance trips during specific hours of the day, considering his work schedule or traffic conditions.\n",
    "\n",
    "To check for this, an independent two samples t test is performed. "
   ]
  },
  {
   "cell_type": "code",
   "execution_count": null,
   "metadata": {},
   "outputs": [],
   "source": [
    "# making the series\n",
    "start_hour_st = pd.to_datetime(df[df['START*'] == df['STOP*']]['Start Time']).dt.hour\n",
    "start_hour_lt = pd.to_datetime(df[df['START*'] != df['STOP*']]['Start Time']).dt.hour"
   ]
  },
  {
   "cell_type": "code",
   "execution_count": null,
   "metadata": {},
   "outputs": [],
   "source": [
    "# performing the test\n",
    "stats.ttest_ind(start_hour_st, start_hour_lt)"
   ]
  },
  {
   "cell_type": "markdown",
   "metadata": {},
   "source": [
    "Here, the p value is greater than 0.05, the level of significance of the test. Hence, one has no evidence to reject the null hypothesis and the conclusion is that the starting hour of the trip is not affected by its start and end locations."
   ]
  },
  {
   "cell_type": "markdown",
   "metadata": {},
   "source": [
    "The duration of the trip can also depend on the purpose of the trip. This is checked using a one-way ANOVA test. "
   ]
  },
  {
   "cell_type": "code",
   "execution_count": null,
   "metadata": {},
   "outputs": [],
   "source": [
    "# categories present in the \"PURPOSE*\" column\n",
    "df['PURPOSE*'].value_counts()"
   ]
  },
  {
   "cell_type": "code",
   "execution_count": null,
   "metadata": {},
   "outputs": [],
   "source": [
    "# making the series\n",
    "Meeting = df[df['PURPOSE*'] == 'Meeting']['Duration']\n",
    "Meal = df[df['PURPOSE*'] == 'Meal/Entertain']['Duration']\n",
    "Errand = df[df['PURPOSE*'] == 'Errand/Supplies']['Duration']\n",
    "CV = df[df['PURPOSE*'] == 'Customer Visit']['Duration']\n",
    "TS = df[df['PURPOSE*'] == 'Temporary Site']['Duration']\n",
    "BO = df[df['PURPOSE*'] == 'Between Offices']['Duration']"
   ]
  },
  {
   "cell_type": "code",
   "execution_count": null,
   "metadata": {},
   "outputs": [],
   "source": [
    "# performing the test\n",
    "anova_result = stats.f_oneway(Meeting, Meal, Errand, CV, TS, BO)\n",
    "anova_result"
   ]
  },
  {
   "cell_type": "markdown",
   "metadata": {},
   "source": [
    "The low p-value implies that there is at least one pair of samples that is significantly different. Hence, one cannot say that the duration of the trip will be same, whatever be the purpose."
   ]
  },
  {
   "cell_type": "markdown",
   "metadata": {},
   "source": [
    "It is also possible that certain days of the week witness higher traffic which in turn affects the duration of the trip. Thus, a one way ANOVA test is performed to know whether there is any dependence between the duration of the trip and the day of the week that it takes place on."
   ]
  },
  {
   "cell_type": "code",
   "execution_count": null,
   "metadata": {},
   "outputs": [],
   "source": [
    "# making the series\n",
    "Mon = df[df['Weekday'] == 0]['Duration']\n",
    "Tue = df[df['Weekday'] == 1]['Duration']\n",
    "Wed = df[df['Weekday'] == 2]['Duration']\n",
    "Thu = df[df['Weekday'] == 3]['Duration']\n",
    "Fri = df[df['Weekday'] == 4]['Duration']\n",
    "Sat = df[df['Weekday'] == 5]['Duration']\n",
    "Sun = df[df['Weekday'] == 6]['Duration']"
   ]
  },
  {
   "cell_type": "code",
   "execution_count": null,
   "metadata": {},
   "outputs": [],
   "source": [
    "# performing the test\n",
    "anova_result = stats.f_oneway(Mon, Tue, Wed, Thu, Fri, Sat, Sun)\n",
    "anova_result"
   ]
  },
  {
   "cell_type": "markdown",
   "metadata": {},
   "source": [
    "Here, the p value is less than 0.05, the level of significance of the test. Hence, one can reject the null hypothesis and say that there is atleast one pair of samples that is significantly different from each other. The duration of the trip does depend on the day of the week that the trip takes place on. "
   ]
  },
  {
   "cell_type": "markdown",
   "metadata": {},
   "source": [
    "Finally, one can check whether the two features 'PURPOSE*' and 'Weekday' are independent of each other, as there is a possibility that the meetings might take place only on the weekdays, trips for supplies or entertainment take place on weekends and likewise. \n",
    "\n",
    "A Chi Square test is used here."
   ]
  },
  {
   "cell_type": "code",
   "execution_count": null,
   "metadata": {},
   "outputs": [],
   "source": [
    "# making the contingency table\n",
    "crosstab = pd.crosstab(df['PURPOSE*'], df['Weekday'])\n",
    "crosstab"
   ]
  },
  {
   "cell_type": "code",
   "execution_count": null,
   "metadata": {},
   "outputs": [],
   "source": [
    "# performing the test\n",
    "stats.chi2_contingency(crosstab)"
   ]
  },
  {
   "cell_type": "markdown",
   "metadata": {},
   "source": [
    "The p value in this case is ~0.006 which is less than the level of significance. 0.05. Hence, one rejects the null hypothesis and concludes that there is a dependence between the purpose of the trip and the day of the week it takes place on."
   ]
  }
 ],
 "metadata": {
  "kernelspec": {
   "display_name": "Python 3",
   "language": "python",
   "name": "python3"
  },
  "language_info": {
   "codemirror_mode": {
    "name": "ipython",
    "version": 3
   },
   "file_extension": ".py",
   "mimetype": "text/x-python",
   "name": "python",
   "nbconvert_exporter": "python",
   "pygments_lexer": "ipython3",
   "version": "3.7.6"
  }
 },
 "nbformat": 4,
 "nbformat_minor": 4
}
