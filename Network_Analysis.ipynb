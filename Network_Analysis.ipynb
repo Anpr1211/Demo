{
 "cells": [
  {
   "cell_type": "code",
   "execution_count": null,
   "metadata": {},
   "outputs": [],
   "source": [
    "# importing libraries\n",
    "\n",
    "import pandas as pd                              # for manipulating the dataframe\n",
    "import plotly.graph_objects as go                # for plotting\n",
    "import networkx as nx                            # for network analysis"
   ]
  },
  {
   "cell_type": "markdown",
   "metadata": {},
   "source": [
    "# Network Analysis"
   ]
  },
  {
   "cell_type": "markdown",
   "metadata": {},
   "source": [
    "Networks comprise graphical representations of the relationships between different variables. Network analysis allows one to estimate complex patterns of relationships to reveal core features of the network.\n",
    "\n",
    "![Network](https://blog.perceptyx.com/hs-fs/hubfs/Images/Blog/organizational-network-analysis-perceptyx.jpg?width=1907&name=organizational-network-analysis-perceptyx.jpg)"
   ]
  },
  {
   "cell_type": "markdown",
   "metadata": {},
   "source": [
    "Networks or Graphs are a set of objects (called nodes) having some relationship with each other (called edges). \n",
    "\n",
    "In the Uber Drives dataset, the information of the trips between different locations is given. Hence, the travel pattern of the rider, which places are travelled to or from most often and which trips take place frequently can be inspected using a network. \n",
    "\n",
    "The Python library that will help create a network is the networkx library."
   ]
  },
  {
   "cell_type": "markdown",
   "metadata": {},
   "source": [
    "# Reading the Dataset"
   ]
  },
  {
   "cell_type": "code",
   "execution_count": null,
   "metadata": {},
   "outputs": [],
   "source": [
    "# loading the dataset\n",
    "df = pd.read_csv(\"Uber_Drives_Clean.csv\")"
   ]
  },
  {
   "cell_type": "markdown",
   "metadata": {},
   "source": [
    "Since there is an inherent direction present in this dataset, i.e., a trip starts from a start location and finishes at an end location, a directed graph is made to signify the direction of movement in a trip. \n",
    "\n",
    "Here, nodes are the different locations and an edge between two nodes is a trip between the two locations. \n",
    "\n",
    "The same source (start location) and target (end location) nodes will not lead to a proper edge, hence, only those datapoints are considered for which the start location and the stop location are different."
   ]
  },
  {
   "cell_type": "code",
   "execution_count": null,
   "metadata": {},
   "outputs": [],
   "source": [
    "# filtering the dataframe\n",
    "df_diff_area = df[df['START*']!=df['STOP*']]\n",
    "\n",
    "df_diff_area.head()"
   ]
  },
  {
   "cell_type": "markdown",
   "metadata": {},
   "source": [
    "# Making the Network"
   ]
  },
  {
   "cell_type": "markdown",
   "metadata": {},
   "source": [
    "A directed graph is made using the filtered dataframe."
   ]
  },
  {
   "cell_type": "code",
   "execution_count": null,
   "metadata": {},
   "outputs": [],
   "source": [
    "# making the graph/network\n",
    "G = nx.from_pandas_edgelist(df_diff_area, source='START*', target='STOP*', \n",
    "                            create_using=nx.DiGraph())"
   ]
  },
  {
   "cell_type": "code",
   "execution_count": null,
   "metadata": {},
   "outputs": [],
   "source": [
    "G"
   ]
  },
  {
   "cell_type": "code",
   "execution_count": null,
   "metadata": {
    "scrolled": true
   },
   "outputs": [],
   "source": [
    "# displaying the nodes\n",
    "G.nodes()"
   ]
  },
  {
   "cell_type": "code",
   "execution_count": null,
   "metadata": {
    "scrolled": true
   },
   "outputs": [],
   "source": [
    "# displaying the edges\n",
    "G.edges()"
   ]
  },
  {
   "cell_type": "markdown",
   "metadata": {},
   "source": [
    "### An edge attribute equal to the no. of trips between the two locations needs to be added. \n",
    "\n",
    "For that purpose the dataframe is grouped by the start and stop locations and the entries are counted."
   ]
  },
  {
   "cell_type": "code",
   "execution_count": null,
   "metadata": {},
   "outputs": [],
   "source": [
    "print(G.edges()[('Fort Pierce', 'West Palm Beach')])\n",
    "print(G.edges()[('Cary', 'Apex')])\n",
    "print(G.edges()[('Whitebridge', 'Hazelwood')])"
   ]
  },
  {
   "cell_type": "code",
   "execution_count": null,
   "metadata": {},
   "outputs": [],
   "source": [
    "# making the edge attributes dataframe\n",
    "df_edge = df_diff_area.groupby(['START*', 'STOP*'], as_index=False)['MILES*'].count()\n",
    "\n",
    "df_edge.head()"
   ]
  },
  {
   "cell_type": "markdown",
   "metadata": {},
   "source": [
    "Another column 'trip_loc' is added which stores the start and stop locations in the form that it is stored in the network as edges, i.e., (start_location, stop_location)."
   ]
  },
  {
   "cell_type": "code",
   "execution_count": null,
   "metadata": {},
   "outputs": [],
   "source": [
    "# adding the trip_loc column\n",
    "trip_loc = [tuple([df_edge.loc[i]['START*'], df_edge.loc[i]['STOP*']]) for i in range(len(df_edge))]\n",
    "\n",
    "df_edge['trip_loc'] = trip_loc"
   ]
  },
  {
   "cell_type": "code",
   "execution_count": null,
   "metadata": {},
   "outputs": [],
   "source": [
    "# adding the trip_loc column\n",
    "trip_loc = list(zip(df_edge['START*'], df_edge['STOP*']))\n",
    "\n",
    "df_edge['trip_loc'] = trip_loc"
   ]
  },
  {
   "cell_type": "code",
   "execution_count": null,
   "metadata": {},
   "outputs": [],
   "source": [
    "df_edge.head()"
   ]
  },
  {
   "cell_type": "markdown",
   "metadata": {},
   "source": [
    "Now the network is updated with the edge attributes."
   ]
  },
  {
   "cell_type": "code",
   "execution_count": null,
   "metadata": {},
   "outputs": [],
   "source": [
    "# loop to iterate over the edges\n",
    "for i in range(len(df_edge)):\n",
    "    \n",
    "    edge = df_edge.iloc[i]['trip_loc']           # extracting the edge\n",
    "    d = {'Trips':df_edge.iloc[i]['MILES*']}      # dictionary to store the count of trips for that edge\n",
    "    G.edges()[edge].update(d)                    # adding the attribute\n",
    "        \n",
    "        "
   ]
  },
  {
   "cell_type": "markdown",
   "metadata": {},
   "source": [
    "Every edge stores the no. of trips made for that start and end locations/nodes. "
   ]
  },
  {
   "cell_type": "code",
   "execution_count": null,
   "metadata": {},
   "outputs": [],
   "source": [
    "print(G.edges()[('Fort Pierce', 'West Palm Beach')])\n",
    "print(G.edges()[('Cary', 'Apex')])\n",
    "print(G.edges()[('Whitebridge', 'Hazelwood')])"
   ]
  },
  {
   "cell_type": "markdown",
   "metadata": {},
   "source": [
    "One needs to define the location of the nodes on the graph. The spring_layout is used in this case which finds the position of the nodes using Fruchterman-Reingold force-directed algorithm. \n",
    "\n",
    "Other available layouts are random_layout, circular_layout, etc. "
   ]
  },
  {
   "cell_type": "code",
   "execution_count": null,
   "metadata": {},
   "outputs": [],
   "source": [
    "# defining the position of the nodes\n",
    "pos = nx.spring_layout(G)\n",
    "\n",
    "# adding the position in the form of a dictionary to the nodes\n",
    "for node in G.nodes:\n",
    "    G.nodes[node]['pos'] = list(pos[node])"
   ]
  },
  {
   "cell_type": "markdown",
   "metadata": {},
   "source": [
    "The position is simply the x and y coordinates that the node will be plotted on in a graph."
   ]
  },
  {
   "cell_type": "code",
   "execution_count": null,
   "metadata": {},
   "outputs": [],
   "source": [
    "print(G.nodes['Fort Pierce']['pos'])\n",
    "print(G.nodes['Cary']['pos'])\n",
    "print(G.nodes['New York']['pos'])"
   ]
  },
  {
   "cell_type": "markdown",
   "metadata": {},
   "source": [
    "Now the network is ready for plotting."
   ]
  },
  {
   "cell_type": "markdown",
   "metadata": {},
   "source": [
    "# Plotting the network"
   ]
  },
  {
   "cell_type": "markdown",
   "metadata": {},
   "source": [
    "Plotly graph objects will be used for creating the plot. \n",
    "\n",
    "The first step is to make a trace which will add all the nodes of the network to the plot.\n",
    "\n",
    "The nodes also need to be colored according to the no. of unique locations that are travelled to or from them. Suppose if trips to 5 different locations are made from a location A, then node A will have a different color on the plot compared to a location B from where trips are made to 10 different locations. The adjacency() function of a network will be used here. "
   ]
  },
  {
   "cell_type": "code",
   "execution_count": null,
   "metadata": {},
   "outputs": [],
   "source": [
    "for node, adj in enumerate(G.adjacency()):\n",
    "    print(node)\n",
    "    print(adj)"
   ]
  },
  {
   "cell_type": "code",
   "execution_count": null,
   "metadata": {},
   "outputs": [],
   "source": [
    "# Make a node trace\n",
    "\n",
    "traceRecode = []                    # list to store all the traces\n",
    "\n",
    "# initialise a node trace\n",
    "node_trace = go.Scatter(x=[], y=[], hovertext=[], mode='markers', hoverinfo=\"text\", \n",
    "                        marker=dict(showscale=True, reversescale=True,\n",
    "                                    color=[], size=5, colorbar=dict(thickness=10, title='No. of unique locations travelled to or from',\n",
    "                                                                    xanchor='left', titleside='right'),\n",
    "                                    colorscale=\"rdylbu\"))\n",
    "\n",
    "# adding the coordinate position of the nodes\n",
    "for node in G.nodes():\n",
    "    x, y = G.nodes()[node]['pos']\n",
    "    hovertext = node\n",
    "    node_trace['x'] += tuple([x])\n",
    "    node_trace['y'] += tuple([y])\n",
    "    node_trace['hovertext'] += tuple([hovertext])          # add the hovertext (name of the location)\n",
    "\n",
    "# specify the color of the node\n",
    "for node, adjacencies in enumerate(G.adjacency()):\n",
    "    try:\n",
    "        node_trace['marker']['color']+=tuple([len(adjacencies[1])])\n",
    "    except:\n",
    "        pass\n",
    "    \n",
    "traceRecode.append(node_trace)                     # adding the node trace"
   ]
  },
  {
   "cell_type": "markdown",
   "metadata": {},
   "source": [
    "A try except block is used here to ensure that no exceptions arise for pairs of nodes that do not share an edge."
   ]
  },
  {
   "cell_type": "markdown",
   "metadata": {},
   "source": [
    "The edge traces are now added. \n",
    "\n",
    "The width of the edge will be equal to the no. of trips. So, if 10 trips are made between location A and B, the edge between them will be thicker compared to the edge between locations C and D which have only 5 trips."
   ]
  },
  {
   "cell_type": "code",
   "execution_count": null,
   "metadata": {},
   "outputs": [],
   "source": [
    "# Make an edge trace\n",
    "\n",
    "for edge in G.edges:\n",
    "    x0, y0 = G.nodes()[edge[0]]['pos']\n",
    "    x1, y1 = G.nodes()[edge[1]]['pos']\n",
    "    weight = G.edges()[edge]['Trips']                 # specifying the parameter for the width of the edge\n",
    "    \n",
    "    trace = go.Scatter(x=tuple([x0, x1, None]), y=tuple([y0, y1, None]),    # defining the edge trace\n",
    "                       mode='lines',\n",
    "                       line=dict(width=weight,color='Blue'))\n",
    "    traceRecode.append(trace)                         # adding the edge trace"
   ]
  },
  {
   "cell_type": "markdown",
   "metadata": {},
   "source": [
    "All the necessary traces have been added. The plot is now created."
   ]
  },
  {
   "cell_type": "code",
   "execution_count": null,
   "metadata": {},
   "outputs": [],
   "source": [
    "figure = {\n",
    "    \"data\": traceRecode,\n",
    "    \"layout\": go.Layout(title='Network of Trips', showlegend=False, hovermode='closest')}"
   ]
  },
  {
   "cell_type": "code",
   "execution_count": null,
   "metadata": {},
   "outputs": [],
   "source": [
    "go.FigureWidget(figure)"
   ]
  },
  {
   "cell_type": "markdown",
   "metadata": {},
   "source": [
    "On hovering over the nodes, one can see the name of the location it refers to. There are few thick lines but the majority edges are thin, signifying that very few trips are made between the two nodes. \n",
    "\n",
    "There are two clusters with very thick lines in between. These can be analysed by zooming into the plot. \n",
    "\n",
    "Cary and Morriville have the maximum no. of trips whereas the most locations are travelled to and from Whitebridge. "
   ]
  },
  {
   "cell_type": "markdown",
   "metadata": {},
   "source": [
    "This was the network for all the locations present in the dataset. Now one can study the network considering the most frequent starting locations. For that purpose, a filtered dataframe is made where the start locations are the top 10 most frequented ones."
   ]
  },
  {
   "cell_type": "code",
   "execution_count": null,
   "metadata": {},
   "outputs": [],
   "source": [
    "# filtered dataframe\n",
    "most_frequent_starts = df['START*'].value_counts().nlargest(10).index\n",
    "\n",
    "df_filtered = df[df['START*'].isin(most_frequent_starts)]"
   ]
  },
  {
   "cell_type": "markdown",
   "metadata": {},
   "source": [
    "A directed graph is made. The no. of trips are added as edge attributes. The circular layout is used this time to define the positions of the nodes. "
   ]
  },
  {
   "cell_type": "code",
   "execution_count": null,
   "metadata": {},
   "outputs": [],
   "source": [
    "# making the graph/network\n",
    "G = nx.from_pandas_edgelist(df_filtered, source='START*', target='STOP*', \n",
    "                            create_using=nx.DiGraph())"
   ]
  },
  {
   "cell_type": "code",
   "execution_count": null,
   "metadata": {},
   "outputs": [],
   "source": [
    "# making the edge attributes dataframe\n",
    "df_edge = df_filtered.groupby(['START*', 'STOP*'], as_index=False)['MILES*'].count()"
   ]
  },
  {
   "cell_type": "code",
   "execution_count": null,
   "metadata": {},
   "outputs": [],
   "source": [
    "# adding the trip_loc column\n",
    "trip_loc = [tuple([df_edge.loc[i]['START*'], df_edge.loc[i]['STOP*']]) for i in range(len(df_edge))]\n",
    "\n",
    "df_edge['trip_loc'] = trip_loc"
   ]
  },
  {
   "cell_type": "code",
   "execution_count": null,
   "metadata": {},
   "outputs": [],
   "source": [
    "# loop to iterate over the edges\n",
    "for i in range(len(df_edge)):\n",
    "    \n",
    "    edge = df_edge.iloc[i]['trip_loc']                   # extracting the edge\n",
    "    d = {'Trips':df_edge.iloc[i]['MILES*']}              # dictionary to store the count of trips for that edge\n",
    "    G.edges()[edge].update(d)                            # adding the attribute"
   ]
  },
  {
   "cell_type": "code",
   "execution_count": null,
   "metadata": {},
   "outputs": [],
   "source": [
    "# defining the position of the nodes\n",
    "pos = nx.circular_layout(G)\n",
    "\n",
    "# adding the position in the form of a dictionary to the nodes\n",
    "for node in G.nodes:\n",
    "    G.nodes[node]['pos'] = list(pos[node])"
   ]
  },
  {
   "cell_type": "code",
   "execution_count": null,
   "metadata": {},
   "outputs": [],
   "source": [
    "# Make a node trace\n",
    "\n",
    "traceRecode = []                    # list to store all the traces\n",
    "\n",
    "# initialise a node trace\n",
    "node_trace = go.Scatter(x=[], y=[], hovertext=[], mode='markers', hoverinfo=\"text\", \n",
    "                        marker=dict(showscale=True, reversescale=True,\n",
    "                                    color=[], size=5, colorbar=dict(thickness=10, title='No. of unique locations travelled to or from',\n",
    "                                                                    xanchor='left', titleside='right'),\n",
    "                                    colorscale=\"rdylbu\"))\n",
    "\n",
    "# adding the coordinate position of the nodes\n",
    "for node in G.nodes():\n",
    "    x, y = G.nodes()[node]['pos']\n",
    "    hovertext = node\n",
    "    node_trace['x'] += tuple([x])\n",
    "    node_trace['y'] += tuple([y])\n",
    "    node_trace['hovertext'] += tuple([hovertext])          # add the hovertext (name of the location)\n",
    "\n",
    "# specify the color of the node\n",
    "for node, adjacencies in enumerate(G.adjacency()):\n",
    "    try:\n",
    "        node_trace['marker']['color']+=tuple([len(adjacencies[1])])\n",
    "    except:\n",
    "        pass\n",
    "    \n",
    "traceRecode.append(node_trace)                     # adding the node trace"
   ]
  },
  {
   "cell_type": "markdown",
   "metadata": {},
   "source": [
    "In this case, the width of the edges is constant."
   ]
  },
  {
   "cell_type": "code",
   "execution_count": null,
   "metadata": {},
   "outputs": [],
   "source": [
    "# Make an edge trace\n",
    "\n",
    "for edge in G.edges:\n",
    "    x0, y0 = G.nodes()[edge[0]]['pos']\n",
    "    x1, y1 = G.nodes()[edge[1]]['pos']\n",
    "    \n",
    "    trace = go.Scatter(x=tuple([x0, x1, None]), y=tuple([y0, y1, None]),    # defining the edge trace\n",
    "                       mode='lines',\n",
    "                       line=dict(width=0.5,color='Blue'))\n",
    "    traceRecode.append(trace)                         # adding the edge trace"
   ]
  },
  {
   "cell_type": "code",
   "execution_count": null,
   "metadata": {},
   "outputs": [],
   "source": [
    "figure = {\n",
    "    \"data\": traceRecode,\n",
    "    \"layout\": go.Layout(title='Network of Trips for most frequent start locations', showlegend=False, hovermode='closest')}"
   ]
  },
  {
   "cell_type": "code",
   "execution_count": null,
   "metadata": {},
   "outputs": [],
   "source": [
    "go.Figure(figure)"
   ]
  },
  {
   "cell_type": "markdown",
   "metadata": {},
   "source": [
    "This plot shows which places are travelled to or from each location. Whitebridge, Midtown and Cary can be considered to be the most frequent location/junction for the rider."
   ]
  }
 ],
 "metadata": {
  "kernelspec": {
   "display_name": "Python 3",
   "language": "python",
   "name": "python3"
  },
  "language_info": {
   "codemirror_mode": {
    "name": "ipython",
    "version": 3
   },
   "file_extension": ".py",
   "mimetype": "text/x-python",
   "name": "python",
   "nbconvert_exporter": "python",
   "pygments_lexer": "ipython3",
   "version": "3.7.6"
  }
 },
 "nbformat": 4,
 "nbformat_minor": 4
}
